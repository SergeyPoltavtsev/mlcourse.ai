{
 "cells": [
  {
   "cell_type": "markdown",
   "metadata": {},
   "source": [
    " # Classification and Regression Trees"
   ]
  },
  {
   "cell_type": "code",
   "execution_count": 119,
   "metadata": {},
   "outputs": [
    {
     "name": "stdout",
     "output_type": "stream",
     "text": [
      "The autoreload extension is already loaded. To reload it, use:\n",
      "  %reload_ext autoreload\n"
     ]
    }
   ],
   "source": [
    "from CART import DecisionTree\n",
    "from sklearn.datasets import load_digits, load_boston\n",
    "from sklearn.model_selection import train_test_split, GridSearchCV\n",
    "from sklearn.metrics import accuracy_score, mean_squared_error\n",
    "from sklearn.tree import DecisionTreeClassifier\n",
    "import numpy as np\n",
    "from matplotlib import pyplot as plt\n",
    "\n",
    "%load_ext autoreload\n",
    "%autoreload 2"
   ]
  },
  {
   "cell_type": "code",
   "execution_count": 140,
   "metadata": {},
   "outputs": [],
   "source": [
    "RANDOM_STATE = 17\n",
    "\n",
    "digits = load_digits()\n",
    "\n",
    "X = digits.data\n",
    "y = digits.target\n",
    "\n",
    "X_train, X_test, y_train, y_test = train_test_split(X, y, test_size=0.2, random_state=RANDOM_STATE)"
   ]
  },
  {
   "cell_type": "code",
   "execution_count": 122,
   "metadata": {},
   "outputs": [
    {
     "name": "stdout",
     "output_type": "stream",
     "text": [
      "\n",
      "DecisionTree params:\n",
      "max_depth = 2, min_samples_split = 2, criterion = gini\n",
      "\n",
      "Best split: Node criterion: 36 < 1.0 gives information gain of 0.0656258638816174 at depth 0\n",
      "Best split: Node criterion: 42 < 6.0 gives information gain of 0.27042163464570934 at depth 1\n",
      "Best split: Node criterion: 21 < 1.0 gives information gain of 0.06609118606251563 at depth 1\n",
      "0.2972222222222222\n"
     ]
    }
   ],
   "source": [
    "tree = DecisionTree(max_depth = 2, criterion='gini', debug=True)\n",
    "tree.fit(X_train, y_train)\n",
    "\n",
    "print(accuracy_score(tree.predict(X_test), y_test))"
   ]
  },
  {
   "cell_type": "code",
   "execution_count": 123,
   "metadata": {},
   "outputs": [
    {
     "name": "stdout",
     "output_type": "stream",
     "text": [
      "Node criterion: 36 < 1.0\n",
      "--> True:\n",
      "  Node criterion: 42 < 6.0\n",
      "  --> True:\n",
      "    Predict:  {2: 0.017241379310344827, 5: 0.25862068965517243, 9: 0.7241379310344828}\n",
      "  --> False:\n",
      "    Predict:  {0: 0.89171974522293, 2: 0.006369426751592357, 4: 0.025477707006369428, 5: 0.03184713375796178, 6: 0.025477707006369428, 8: 0.01910828025477707}\n",
      "--> False:\n",
      "  Node criterion: 21 < 1.0\n",
      "  --> True:\n",
      "    Predict:  {1: 0.0938337801608579, 2: 0.10455764075067024, 3: 0.021447721179624665, 4: 0.07238605898123325, 5: 0.3002680965147453, 6: 0.38337801608579086, 7: 0.0160857908847185, 8: 0.00804289544235925}\n",
      "  --> False:\n",
      "    Predict:  {0: 0.004711425206124852, 1: 0.1330977620730271, 2: 0.12014134275618374, 3: 0.16136631330977622, 4: 0.12956419316843346, 5: 0.01060070671378092, 6: 0.002355712603062426, 7: 0.16725559481743227, 8: 0.15547703180212014, 9: 0.1154299175500589}\n"
     ]
    }
   ],
   "source": [
    "tree.print_tree()"
   ]
  },
  {
   "cell_type": "code",
   "execution_count": 124,
   "metadata": {},
   "outputs": [
    {
     "name": "stdout",
     "output_type": "stream",
     "text": [
      "\n",
      "DecisionTree params:\n",
      "max_depth = 2, min_samples_split = 2, criterion = entropy\n",
      "\n",
      "Best split: Node criterion: 21 < 2.0 gives information gain of 0.4717055045592944 at depth 0\n",
      "Best split: Node criterion: 42 < 9.0 gives information gain of 0.6115662926188997 at depth 1\n",
      "Best split: Node criterion: 36 < 4.0 gives information gain of 0.5246450296047049 at depth 1\n",
      "0.3611111111111111\n"
     ]
    }
   ],
   "source": [
    "tree2 = DecisionTree(max_depth = 2, criterion='entropy', debug=True)\n",
    "tree2.fit(X_train, y_train)\n",
    "\n",
    "print(accuracy_score(tree2.predict(X_test), y_test))"
   ]
  },
  {
   "cell_type": "code",
   "execution_count": 125,
   "metadata": {},
   "outputs": [
    {
     "name": "stdout",
     "output_type": "stream",
     "text": [
      "Node criterion: 21 < 2.0\n",
      "--> True:\n",
      "  Node criterion: 42 < 9.0\n",
      "  --> True:\n",
      "    Predict:  {1: 0.1559633027522936, 2: 0.15137614678899083, 3: 0.045871559633027525, 4: 0.045871559633027525, 5: 0.5504587155963303, 6: 0.013761467889908258, 7: 0.022935779816513763, 8: 0.013761467889908258}\n",
      "  --> False:\n",
      "    Predict:  {0: 0.004975124378109453, 1: 0.03482587064676617, 2: 0.06467661691542288, 4: 0.13930348258706468, 5: 0.03482587064676617, 6: 0.7164179104477612, 7: 0.004975124378109453}\n",
      "--> False:\n",
      "  Node criterion: 36 < 4.0\n",
      "  --> True:\n",
      "    Predict:  {0: 0.5860655737704918, 1: 0.00819672131147541, 2: 0.02459016393442623, 3: 0.01639344262295082, 4: 0.004098360655737705, 5: 0.040983606557377046, 6: 0.004098360655737705, 8: 0.028688524590163935, 9: 0.28688524590163933}\n",
      "  --> False:\n",
      "    Predict:  {1: 0.13565891472868216, 2: 0.11757105943152454, 3: 0.16925064599483206, 4: 0.13178294573643412, 5: 0.00516795865633075, 6: 0.0012919896640826874, 7: 0.1834625322997416, 8: 0.165374677002584, 9: 0.09043927648578812}\n"
     ]
    }
   ],
   "source": [
    "tree2.print_tree()"
   ]
  },
  {
   "cell_type": "code",
   "execution_count": 105,
   "metadata": {},
   "outputs": [
    {
     "name": "stdout",
     "output_type": "stream",
     "text": [
      "Fitting 5 folds for each of 16 candidates, totalling 80 fits\n"
     ]
    },
    {
     "name": "stderr",
     "output_type": "stream",
     "text": [
      "[Parallel(n_jobs=-1)]: Using backend LokyBackend with 8 concurrent workers.\n",
      "[Parallel(n_jobs=-1)]: Done  34 tasks      | elapsed:   36.5s\n",
      "[Parallel(n_jobs=-1)]: Done  80 out of  80 | elapsed:  1.1min finished\n"
     ]
    },
    {
     "name": "stdout",
     "output_type": "stream",
     "text": [
      "Wall time: 1min 7s\n"
     ]
    }
   ],
   "source": [
    "%%time\n",
    "\n",
    "tree_params = {'max_depth': list(range(3,11)),\n",
    "             'criterion': ['entropy', 'gini']}\n",
    "    \n",
    "clf = GridSearchCV(DecisionTree(), tree_params, cv=5, scoring='accuracy',\n",
    "                  verbose=True, n_jobs=-1)\n",
    "\n",
    "clf.fit(X_train, y_train)"
   ]
  },
  {
   "cell_type": "code",
   "execution_count": 106,
   "metadata": {},
   "outputs": [
    {
     "data": {
      "text/plain": [
       "(0.860125260960334, {'criterion': 'entropy', 'max_depth': 8})"
      ]
     },
     "execution_count": 106,
     "metadata": {},
     "output_type": "execute_result"
    }
   ],
   "source": [
    "clf.best_score_, clf.best_params_ "
   ]
  },
  {
   "cell_type": "markdown",
   "metadata": {},
   "source": [
    "## Compare performance with the decision tree implementation from sklear."
   ]
  },
  {
   "cell_type": "code",
   "execution_count": 126,
   "metadata": {},
   "outputs": [
    {
     "name": "stdout",
     "output_type": "stream",
     "text": [
      "Wall time: 2.73 s\n"
     ]
    }
   ],
   "source": [
    "%%time \n",
    "\n",
    "mytree = DecisionTree(criterion='entropy', max_depth=8)\n",
    "mytree.fit(X_train, y_train)"
   ]
  },
  {
   "cell_type": "code",
   "execution_count": 127,
   "metadata": {},
   "outputs": [
    {
     "name": "stdout",
     "output_type": "stream",
     "text": [
      "0.8916666666666667\n"
     ]
    }
   ],
   "source": [
    "print(accuracy_score(mytree.predict(X_test), y_test))"
   ]
  },
  {
   "cell_type": "code",
   "execution_count": 128,
   "metadata": {},
   "outputs": [
    {
     "data": {
      "image/png": "[encoded data removed]",
      "text/plain": [
       "<Figure size 432x288 with 1 Axes>"
      ]
     },
     "metadata": {
      "needs_background": "light"
     },
     "output_type": "display_data"
    }
   ],
   "source": [
    "scores = np.array(clf.cv_results_['mean_test_score'])\n",
    "scores = scores.reshape(len(tree_params['criterion']), \n",
    "                        len(tree_params['max_depth']))\n",
    "\n",
    "for ind, i in enumerate(tree_params['criterion']):\n",
    "    plt.plot(tree_params['max_depth'], scores[ind], label=str(i))\n",
    "plt.legend(loc='best')\n",
    "plt.xlabel('max_depth')\n",
    "plt.ylabel('Accuracy')\n",
    "plt.show();"
   ]
  },
  {
   "cell_type": "markdown",
   "metadata": {},
   "source": [
    "# Regression"
   ]
  },
  {
   "cell_type": "markdown",
   "metadata": {},
   "source": [
    "Download the dataset boston using the method load_boston. Split the data into train and test with the train_test_split method, use parameter values test_size=0.2, random_state=17. Try to train shallow regression decision trees and make sure that variance and mad_median criteria return different results."
   ]
  },
  {
   "cell_type": "code",
   "execution_count": 117,
   "metadata": {},
   "outputs": [],
   "source": [
    "boston = load_boston()\n",
    "\n",
    "X = boston.data\n",
    "y = boston.target\n",
    "\n",
    "X_train, X_test, y_train, y_test = train_test_split(X, y, test_size=0.2, random_state=RANDOM_STATE)"
   ]
  },
  {
   "cell_type": "code",
   "execution_count": 120,
   "metadata": {},
   "outputs": [
    {
     "name": "stdout",
     "output_type": "stream",
     "text": [
      "\n",
      "DecisionTree params:\n",
      "max_depth = 2, min_samples_split = 2, criterion = variance\n",
      "\n",
      "Best split: Node criterion: 12 < 7.51 gives information gain of 41.768122026649124 at depth 0\n",
      "Best split: Node criterion: 5 < 7.454 gives information gain of 46.87549450247771 at depth 1\n",
      "Best split: Node criterion: 12 < 15.02 gives information gain of 13.469312709393131 at depth 1\n",
      "32.25666027354226\n"
     ]
    }
   ],
   "source": [
    "reg_tree1 = DecisionTree(max_depth=2, criterion='variance', debug=True)\n",
    "reg_tree1.fit(X_train, y_train)\n",
    "\n",
    "print(mean_squared_error(reg_tree1.predict(X_test),y_test))"
   ]
  },
  {
   "cell_type": "code",
   "execution_count": 129,
   "metadata": {},
   "outputs": [
    {
     "name": "stdout",
     "output_type": "stream",
     "text": [
      "\n",
      "DecisionTree params:\n",
      "max_depth = 2, min_samples_split = 2, criterion = mad_median\n",
      "\n",
      "Best split: Node criterion: 52 < 8.0 gives information gain of 0.3194154488517742 at depth 0\n",
      "Best split: Node criterion: 29 < 13.0 gives information gain of 0.2575757575757578 at depth 1\n",
      "Best split: Node criterion: 36 < 1.0 gives information gain of 0.34213421342134165 at depth 1\n",
      "6.405756076284107\n"
     ]
    }
   ],
   "source": [
    "reg_tree2 = DecisionTree(max_depth=2, criterion='mad_median', debug=True)\n",
    "reg_tree2.fit(X_train, y_train)\n",
    "\n",
    "print(mean_squared_error(reg_tree2.predict(X_test),y_test))"
   ]
  },
  {
   "cell_type": "code",
   "execution_count": 131,
   "metadata": {},
   "outputs": [
    {
     "name": "stderr",
     "output_type": "stream",
     "text": [
      "C:\\Users\\sepolt\\AppData\\Local\\Continuum\\anaconda3\\lib\\site-packages\\sklearn\\model_selection\\_search.py:841: DeprecationWarning: The default of the `iid` parameter will change from True to False in version 0.22 and will be removed in 0.24. This will change numeric results when test-set sizes are unequal.\n",
      "  DeprecationWarning)\n"
     ]
    },
    {
     "name": "stdout",
     "output_type": "stream",
     "text": [
      "Wall time: 40.7 s\n"
     ]
    }
   ],
   "source": [
    "%%time\n",
    "\n",
    "tree_params = {'criterion': ['variance', 'mad_median'],\n",
    "              'max_depth': list(range(2,9))}\n",
    "\n",
    "reg = GridSearchCV(DecisionTree(), tree_params, cv=5, scoring='neg_mean_squared_error', n_jobs=-1)\n",
    "\n",
    "reg.fit(X_train, y_train)"
   ]
  },
  {
   "cell_type": "code",
   "execution_count": 132,
   "metadata": {},
   "outputs": [
    {
     "data": {
      "image/png": "[encoded data removed]",
      "text/plain": [
       "<Figure size 432x288 with 1 Axes>"
      ]
     },
     "metadata": {
      "needs_background": "light"
     },
     "output_type": "display_data"
    }
   ],
   "source": [
    "scores = -np.array(reg.cv_results_['mean_test_score'])\n",
    "scores = scores.reshape(len(tree_params['criterion']), len(tree_params['max_depth']))\n",
    "\n",
    "for ind, i in enumerate(tree_params['criterion']):\n",
    "    plt.plot(tree_params['max_depth'], scores[ind], label=str(i))\n",
    "plt.legend()\n",
    "plt.xlabel('max_depth')\n",
    "plt.ylabel('MSE')\n",
    "plt.show();"
   ]
  },
  {
   "cell_type": "code",
   "execution_count": 133,
   "metadata": {},
   "outputs": [
    {
     "data": {
      "text/plain": [
       "(-3.1923370032356244, {'criterion': 'variance', 'max_depth': 7})"
      ]
     },
     "execution_count": 133,
     "metadata": {},
     "output_type": "execute_result"
    }
   ],
   "source": [
    "reg.best_score_, reg.best_params_"
   ]
  },
  {
   "cell_type": "code",
   "execution_count": 134,
   "metadata": {},
   "outputs": [
    {
     "name": "stdout",
     "output_type": "stream",
     "text": [
      "3.186542040121014\n"
     ]
    }
   ],
   "source": [
    "reg_tree_best = DecisionTree(max_depth=7, criterion='variance')\n",
    "reg_tree_best.fit(X_train, y_train)\n",
    "\n",
    "print(mean_squared_error(reg_tree_best.predict(X_test),y_test))"
   ]
  },
  {
   "cell_type": "code",
   "execution_count": null,
   "metadata": {},
   "outputs": [],
   "source": []
  }
 ],
 "metadata": {
  "file_extension": ".py",
  "kernelspec": {
   "display_name": "Python 3",
   "language": "python",
   "name": "python3"
  },
  "language_info": {
   "codemirror_mode": {
    "name": "ipython",
    "version": 3
   },
   "file_extension": ".py",
   "mimetype": "text/x-python",
   "name": "python",
   "nbconvert_exporter": "python",
   "pygments_lexer": "ipython3",
   "version": "3.6.6"
  },
  "mimetype": "text/x-python",
  "name": "python",
  "npconvert_exporter": "python",
  "pygments_lexer": "ipython3",
  "version": 3
 },
 "nbformat": 4,
 "nbformat_minor": 2
}
